{
  "cells": [
    {
      "cell_type": "markdown",
      "metadata": {
        "id": "view-in-github",
        "colab_type": "text"
      },
      "source": [
        "<a href=\"https://colab.research.google.com/github/ChiragAhir016/DS-670-Capstone-Project-Smart-City-Safety-Management/blob/main/Capstone_Week_2_Assignment.ipynb\" target=\"_parent\"><img src=\"https://colab.research.google.com/assets/colab-badge.svg\" alt=\"Open In Colab\"/></a>"
      ]
    },
    {
      "cell_type": "markdown",
      "id": "6bcab8d7",
      "metadata": {
        "id": "6bcab8d7"
      },
      "source": [
        "# EMS AI-DRIVEN NOTIFICATION SYSTEM"
      ]
    },
    {
      "cell_type": "markdown",
      "id": "4f660b65",
      "metadata": {
        "id": "4f660b65"
      },
      "source": [
        "### Loading the dataset"
      ]
    },
    {
      "cell_type": "code",
      "execution_count": 4,
      "id": "227abf1b",
      "metadata": {
        "id": "227abf1b"
      },
      "outputs": [],
      "source": [
        "# REQUIRED LIBRARIES\n",
        "\n",
        "import pandas as pd\n",
        "import matplotlib.pyplot as plt\n",
        "import seaborn as sns\n",
        "\n",
        "## ML sampling, models and data splitting\n",
        "from sklearn.model_selection import train_test_split\n",
        "from sklearn.impute import SimpleImputer\n",
        "from sklearn.preprocessing import StandardScaler, OneHotEncoder\n",
        "from sklearn.ensemble import RandomForestClassifier\n",
        "from sklearn.metrics import roc_auc_score, precision_score, accuracy_score, mean_absolute_error, mean_squared_error\n",
        "from sklearn.metrics import mean_absolute_percentage_error\n",
        "from imblearn.over_sampling import RandomOverSampler\n",
        "\n"
      ]
    },
    {
      "cell_type": "code",
      "source": [
        "import nltk\n",
        "import pandas as pd\n",
        "import numpy as np\n",
        "import seaborn as sns\n",
        "from sklearn.feature_extraction.text import CountVectorizer,HashingVectorizer,TfidfTransformer\n",
        "from mlxtend.plotting import plot_confusion_matrix\n",
        "from sklearn.metrics import confusion_matrix,accuracy_score\n",
        "from nltk.corpus import stopwords\n",
        "from nltk.stem.porter import PorterStemmer\n",
        "import re\n",
        "import matplotlib.pyplot as plt\n",
        "nltk.download('stopwords')"
      ],
      "metadata": {
        "colab": {
          "base_uri": "https://localhost:8080/"
        },
        "id": "q4fKgWWeIPgi",
        "outputId": "f57f4da0-4739-41e7-ede9-c8e464e7ef98"
      },
      "id": "q4fKgWWeIPgi",
      "execution_count": 134,
      "outputs": [
        {
          "output_type": "stream",
          "name": "stderr",
          "text": [
            "[nltk_data] Downloading package stopwords to /root/nltk_data...\n",
            "[nltk_data]   Package stopwords is already up-to-date!\n"
          ]
        },
        {
          "output_type": "execute_result",
          "data": {
            "text/plain": [
              "True"
            ]
          },
          "metadata": {},
          "execution_count": 134
        }
      ]
    },
    {
      "cell_type": "code",
      "execution_count": 135,
      "id": "4adc2c48",
      "metadata": {
        "colab": {
          "base_uri": "https://localhost:8080/",
          "height": 206
        },
        "id": "4adc2c48",
        "outputId": "b00bdf28-7c1e-478a-e575-155dd95d12c2"
      },
      "outputs": [
        {
          "output_type": "execute_result",
          "data": {
            "text/plain": [
              "   Record ID           Date and Time            NotificationType  \\\n",
              "0        209  05/11/2009 10:00:00 AM   zINAC * Aerial (Fly-Over)   \n",
              "1        210  05/15/2009 08:00:00 AM  zINAC * Drills / Exercises   \n",
              "2        211  05/16/2009 05:00:00 PM  zINAC * Drills / Exercises   \n",
              "3        212  05/17/2009 05:00:00 PM  zINAC * Drills / Exercises   \n",
              "4        213  05/19/2009 09:45:00 AM   zINAC * Aerial (Fly-Over)   \n",
              "\n",
              "  Notification Title                                         Email Body  \n",
              "0            [blank]  This is a message from Notify NYC. Notificatio...  \n",
              "1            [blank]  This is a message from Notify NYC. Notificatio...  \n",
              "2            [blank]  This is a message from Notify NYC. Notificatio...  \n",
              "3            [blank]  This is a message from Notify NYC. Notificatio...  \n",
              "4            [blank]  This is a message from Notify NYC. Notificatio...  "
            ],
            "text/html": [
              "\n",
              "  <div id=\"df-1d0a6306-97a7-4044-8030-759e2de91ea3\" class=\"colab-df-container\">\n",
              "    <div>\n",
              "<style scoped>\n",
              "    .dataframe tbody tr th:only-of-type {\n",
              "        vertical-align: middle;\n",
              "    }\n",
              "\n",
              "    .dataframe tbody tr th {\n",
              "        vertical-align: top;\n",
              "    }\n",
              "\n",
              "    .dataframe thead th {\n",
              "        text-align: right;\n",
              "    }\n",
              "</style>\n",
              "<table border=\"1\" class=\"dataframe\">\n",
              "  <thead>\n",
              "    <tr style=\"text-align: right;\">\n",
              "      <th></th>\n",
              "      <th>Record ID</th>\n",
              "      <th>Date and Time</th>\n",
              "      <th>NotificationType</th>\n",
              "      <th>Notification Title</th>\n",
              "      <th>Email Body</th>\n",
              "    </tr>\n",
              "  </thead>\n",
              "  <tbody>\n",
              "    <tr>\n",
              "      <th>0</th>\n",
              "      <td>209</td>\n",
              "      <td>05/11/2009 10:00:00 AM</td>\n",
              "      <td>zINAC * Aerial (Fly-Over)</td>\n",
              "      <td>[blank]</td>\n",
              "      <td>This is a message from Notify NYC. Notificatio...</td>\n",
              "    </tr>\n",
              "    <tr>\n",
              "      <th>1</th>\n",
              "      <td>210</td>\n",
              "      <td>05/15/2009 08:00:00 AM</td>\n",
              "      <td>zINAC * Drills / Exercises</td>\n",
              "      <td>[blank]</td>\n",
              "      <td>This is a message from Notify NYC. Notificatio...</td>\n",
              "    </tr>\n",
              "    <tr>\n",
              "      <th>2</th>\n",
              "      <td>211</td>\n",
              "      <td>05/16/2009 05:00:00 PM</td>\n",
              "      <td>zINAC * Drills / Exercises</td>\n",
              "      <td>[blank]</td>\n",
              "      <td>This is a message from Notify NYC. Notificatio...</td>\n",
              "    </tr>\n",
              "    <tr>\n",
              "      <th>3</th>\n",
              "      <td>212</td>\n",
              "      <td>05/17/2009 05:00:00 PM</td>\n",
              "      <td>zINAC * Drills / Exercises</td>\n",
              "      <td>[blank]</td>\n",
              "      <td>This is a message from Notify NYC. Notificatio...</td>\n",
              "    </tr>\n",
              "    <tr>\n",
              "      <th>4</th>\n",
              "      <td>213</td>\n",
              "      <td>05/19/2009 09:45:00 AM</td>\n",
              "      <td>zINAC * Aerial (Fly-Over)</td>\n",
              "      <td>[blank]</td>\n",
              "      <td>This is a message from Notify NYC. Notificatio...</td>\n",
              "    </tr>\n",
              "  </tbody>\n",
              "</table>\n",
              "</div>\n",
              "    <div class=\"colab-df-buttons\">\n",
              "\n",
              "  <div class=\"colab-df-container\">\n",
              "    <button class=\"colab-df-convert\" onclick=\"convertToInteractive('df-1d0a6306-97a7-4044-8030-759e2de91ea3')\"\n",
              "            title=\"Convert this dataframe to an interactive table.\"\n",
              "            style=\"display:none;\">\n",
              "\n",
              "  <svg xmlns=\"http://www.w3.org/2000/svg\" height=\"24px\" viewBox=\"0 -960 960 960\">\n",
              "    <path d=\"M120-120v-720h720v720H120Zm60-500h600v-160H180v160Zm220 220h160v-160H400v160Zm0 220h160v-160H400v160ZM180-400h160v-160H180v160Zm440 0h160v-160H620v160ZM180-180h160v-160H180v160Zm440 0h160v-160H620v160Z\"/>\n",
              "  </svg>\n",
              "    </button>\n",
              "\n",
              "  <style>\n",
              "    .colab-df-container {\n",
              "      display:flex;\n",
              "      gap: 12px;\n",
              "    }\n",
              "\n",
              "    .colab-df-convert {\n",
              "      background-color: #E8F0FE;\n",
              "      border: none;\n",
              "      border-radius: 50%;\n",
              "      cursor: pointer;\n",
              "      display: none;\n",
              "      fill: #1967D2;\n",
              "      height: 32px;\n",
              "      padding: 0 0 0 0;\n",
              "      width: 32px;\n",
              "    }\n",
              "\n",
              "    .colab-df-convert:hover {\n",
              "      background-color: #E2EBFA;\n",
              "      box-shadow: 0px 1px 2px rgba(60, 64, 67, 0.3), 0px 1px 3px 1px rgba(60, 64, 67, 0.15);\n",
              "      fill: #174EA6;\n",
              "    }\n",
              "\n",
              "    .colab-df-buttons div {\n",
              "      margin-bottom: 4px;\n",
              "    }\n",
              "\n",
              "    [theme=dark] .colab-df-convert {\n",
              "      background-color: #3B4455;\n",
              "      fill: #D2E3FC;\n",
              "    }\n",
              "\n",
              "    [theme=dark] .colab-df-convert:hover {\n",
              "      background-color: #434B5C;\n",
              "      box-shadow: 0px 1px 3px 1px rgba(0, 0, 0, 0.15);\n",
              "      filter: drop-shadow(0px 1px 2px rgba(0, 0, 0, 0.3));\n",
              "      fill: #FFFFFF;\n",
              "    }\n",
              "  </style>\n",
              "\n",
              "    <script>\n",
              "      const buttonEl =\n",
              "        document.querySelector('#df-1d0a6306-97a7-4044-8030-759e2de91ea3 button.colab-df-convert');\n",
              "      buttonEl.style.display =\n",
              "        google.colab.kernel.accessAllowed ? 'block' : 'none';\n",
              "\n",
              "      async function convertToInteractive(key) {\n",
              "        const element = document.querySelector('#df-1d0a6306-97a7-4044-8030-759e2de91ea3');\n",
              "        const dataTable =\n",
              "          await google.colab.kernel.invokeFunction('convertToInteractive',\n",
              "                                                    [key], {});\n",
              "        if (!dataTable) return;\n",
              "\n",
              "        const docLinkHtml = 'Like what you see? Visit the ' +\n",
              "          '<a target=\"_blank\" href=https://colab.research.google.com/notebooks/data_table.ipynb>data table notebook</a>'\n",
              "          + ' to learn more about interactive tables.';\n",
              "        element.innerHTML = '';\n",
              "        dataTable['output_type'] = 'display_data';\n",
              "        await google.colab.output.renderOutput(dataTable, element);\n",
              "        const docLink = document.createElement('div');\n",
              "        docLink.innerHTML = docLinkHtml;\n",
              "        element.appendChild(docLink);\n",
              "      }\n",
              "    </script>\n",
              "  </div>\n",
              "\n",
              "\n",
              "<div id=\"df-ecf66dc7-08c4-4cd9-9204-d6e697ce685a\">\n",
              "  <button class=\"colab-df-quickchart\" onclick=\"quickchart('df-ecf66dc7-08c4-4cd9-9204-d6e697ce685a')\"\n",
              "            title=\"Suggest charts\"\n",
              "            style=\"display:none;\">\n",
              "\n",
              "<svg xmlns=\"http://www.w3.org/2000/svg\" height=\"24px\"viewBox=\"0 0 24 24\"\n",
              "     width=\"24px\">\n",
              "    <g>\n",
              "        <path d=\"M19 3H5c-1.1 0-2 .9-2 2v14c0 1.1.9 2 2 2h14c1.1 0 2-.9 2-2V5c0-1.1-.9-2-2-2zM9 17H7v-7h2v7zm4 0h-2V7h2v10zm4 0h-2v-4h2v4z\"/>\n",
              "    </g>\n",
              "</svg>\n",
              "  </button>\n",
              "\n",
              "<style>\n",
              "  .colab-df-quickchart {\n",
              "      --bg-color: #E8F0FE;\n",
              "      --fill-color: #1967D2;\n",
              "      --hover-bg-color: #E2EBFA;\n",
              "      --hover-fill-color: #174EA6;\n",
              "      --disabled-fill-color: #AAA;\n",
              "      --disabled-bg-color: #DDD;\n",
              "  }\n",
              "\n",
              "  [theme=dark] .colab-df-quickchart {\n",
              "      --bg-color: #3B4455;\n",
              "      --fill-color: #D2E3FC;\n",
              "      --hover-bg-color: #434B5C;\n",
              "      --hover-fill-color: #FFFFFF;\n",
              "      --disabled-bg-color: #3B4455;\n",
              "      --disabled-fill-color: #666;\n",
              "  }\n",
              "\n",
              "  .colab-df-quickchart {\n",
              "    background-color: var(--bg-color);\n",
              "    border: none;\n",
              "    border-radius: 50%;\n",
              "    cursor: pointer;\n",
              "    display: none;\n",
              "    fill: var(--fill-color);\n",
              "    height: 32px;\n",
              "    padding: 0;\n",
              "    width: 32px;\n",
              "  }\n",
              "\n",
              "  .colab-df-quickchart:hover {\n",
              "    background-color: var(--hover-bg-color);\n",
              "    box-shadow: 0 1px 2px rgba(60, 64, 67, 0.3), 0 1px 3px 1px rgba(60, 64, 67, 0.15);\n",
              "    fill: var(--button-hover-fill-color);\n",
              "  }\n",
              "\n",
              "  .colab-df-quickchart-complete:disabled,\n",
              "  .colab-df-quickchart-complete:disabled:hover {\n",
              "    background-color: var(--disabled-bg-color);\n",
              "    fill: var(--disabled-fill-color);\n",
              "    box-shadow: none;\n",
              "  }\n",
              "\n",
              "  .colab-df-spinner {\n",
              "    border: 2px solid var(--fill-color);\n",
              "    border-color: transparent;\n",
              "    border-bottom-color: var(--fill-color);\n",
              "    animation:\n",
              "      spin 1s steps(1) infinite;\n",
              "  }\n",
              "\n",
              "  @keyframes spin {\n",
              "    0% {\n",
              "      border-color: transparent;\n",
              "      border-bottom-color: var(--fill-color);\n",
              "      border-left-color: var(--fill-color);\n",
              "    }\n",
              "    20% {\n",
              "      border-color: transparent;\n",
              "      border-left-color: var(--fill-color);\n",
              "      border-top-color: var(--fill-color);\n",
              "    }\n",
              "    30% {\n",
              "      border-color: transparent;\n",
              "      border-left-color: var(--fill-color);\n",
              "      border-top-color: var(--fill-color);\n",
              "      border-right-color: var(--fill-color);\n",
              "    }\n",
              "    40% {\n",
              "      border-color: transparent;\n",
              "      border-right-color: var(--fill-color);\n",
              "      border-top-color: var(--fill-color);\n",
              "    }\n",
              "    60% {\n",
              "      border-color: transparent;\n",
              "      border-right-color: var(--fill-color);\n",
              "    }\n",
              "    80% {\n",
              "      border-color: transparent;\n",
              "      border-right-color: var(--fill-color);\n",
              "      border-bottom-color: var(--fill-color);\n",
              "    }\n",
              "    90% {\n",
              "      border-color: transparent;\n",
              "      border-bottom-color: var(--fill-color);\n",
              "    }\n",
              "  }\n",
              "</style>\n",
              "\n",
              "  <script>\n",
              "    async function quickchart(key) {\n",
              "      const quickchartButtonEl =\n",
              "        document.querySelector('#' + key + ' button');\n",
              "      quickchartButtonEl.disabled = true;  // To prevent multiple clicks.\n",
              "      quickchartButtonEl.classList.add('colab-df-spinner');\n",
              "      try {\n",
              "        const charts = await google.colab.kernel.invokeFunction(\n",
              "            'suggestCharts', [key], {});\n",
              "      } catch (error) {\n",
              "        console.error('Error during call to suggestCharts:', error);\n",
              "      }\n",
              "      quickchartButtonEl.classList.remove('colab-df-spinner');\n",
              "      quickchartButtonEl.classList.add('colab-df-quickchart-complete');\n",
              "    }\n",
              "    (() => {\n",
              "      let quickchartButtonEl =\n",
              "        document.querySelector('#df-ecf66dc7-08c4-4cd9-9204-d6e697ce685a button');\n",
              "      quickchartButtonEl.style.display =\n",
              "        google.colab.kernel.accessAllowed ? 'block' : 'none';\n",
              "    })();\n",
              "  </script>\n",
              "</div>\n",
              "    </div>\n",
              "  </div>\n"
            ]
          },
          "metadata": {},
          "execution_count": 135
        }
      ],
      "source": [
        "import numpy as np\n",
        "# Load your dataset\n",
        "file_path = 'NYCEM_Emergency_Notifications_20231217.csv'\n",
        "df = pd.read_csv(file_path)\n",
        "\n",
        "## showcasing the data header\n",
        "df.head()\n",
        "# df['NotificationType'].unique()"
      ]
    },
    {
      "cell_type": "code",
      "execution_count": 136,
      "id": "114730ea",
      "metadata": {
        "colab": {
          "base_uri": "https://localhost:8080/"
        },
        "id": "114730ea",
        "outputId": "3d7eb495-205d-4424-c610-d48cc6c34224"
      },
      "outputs": [
        {
          "output_type": "stream",
          "name": "stdout",
          "text": [
            "Dataset Info:\n",
            "<class 'pandas.core.frame.DataFrame'>\n",
            "RangeIndex: 26041 entries, 0 to 26040\n",
            "Data columns (total 5 columns):\n",
            " #   Column              Non-Null Count  Dtype \n",
            "---  ------              --------------  ----- \n",
            " 0   Record ID           26041 non-null  int64 \n",
            " 1   Date and Time       26041 non-null  object\n",
            " 2   NotificationType    25973 non-null  object\n",
            " 3   Notification Title  26041 non-null  object\n",
            " 4   Email Body          24524 non-null  object\n",
            "dtypes: int64(1), object(4)\n",
            "memory usage: 1017.4+ KB\n",
            "None\n"
          ]
        }
      ],
      "source": [
        "# Display basic information about the dataset\n",
        "print(\"Dataset Info:\")\n",
        "print(df.info())"
      ]
    },
    {
      "cell_type": "markdown",
      "source": [
        "### Cleaning Data"
      ],
      "metadata": {
        "id": "XO-pBC7Db_ys"
      },
      "id": "XO-pBC7Db_ys"
    },
    {
      "cell_type": "code",
      "source": [
        "# Initial Cleaning\n",
        "print(\"Check for missing values\")\n",
        "print(df.isnull().sum())\n",
        "\n",
        "# \"replace missing notificationType with UNKOWN category\"\n",
        "bool1 = pd.isnull(df['NotificationType'])\n",
        "df[['NotificationType']] = df[['NotificationType']].fillna(\"UNKOWN\")\n",
        "\n",
        "# \"remove missing email body rows\"\n",
        "df[['Email Body']] = df[['Email Body']].fillna(\"UNKOWN\")\n",
        "df['all_text'] = df['Email Body'] +\" \"+ df['Notification Title']\n",
        "\n",
        "# check if there are still missing values after cleaning\n",
        "print(df.isnull().sum())"
      ],
      "metadata": {
        "colab": {
          "base_uri": "https://localhost:8080/"
        },
        "id": "BhpWqpsDDg79",
        "outputId": "85ab7dce-f5d9-4e78-dd63-58bd2c662065"
      },
      "id": "BhpWqpsDDg79",
      "execution_count": 137,
      "outputs": [
        {
          "output_type": "stream",
          "name": "stdout",
          "text": [
            "Check for missing values\n",
            "Record ID                0\n",
            "Date and Time            0\n",
            "NotificationType        68\n",
            "Notification Title       0\n",
            "Email Body            1517\n",
            "dtype: int64\n",
            "Record ID             0\n",
            "Date and Time         0\n",
            "NotificationType      0\n",
            "Notification Title    0\n",
            "Email Body            0\n",
            "all_text              0\n",
            "dtype: int64\n"
          ]
        }
      ]
    },
    {
      "cell_type": "markdown",
      "source": [
        "### EDA"
      ],
      "metadata": {
        "id": "bxS_UqYCcFo_"
      },
      "id": "bxS_UqYCcFo_"
    },
    {
      "source": [
        "from matplotlib import pyplot as plt\n",
        "import seaborn as sns\n",
        "df.groupby('NotificationType').size().plot(kind='barh', color=sns.palettes.mpl_palette('Dark2'))\n",
        "plt.gca().spines[['top', 'right',]].set_visible(False)"
      ],
      "cell_type": "code",
      "metadata": {
        "colab": {
          "base_uri": "https://localhost:8080/",
          "height": 430
        },
        "id": "BjX4nyu35hX2",
        "outputId": "380c824b-beb7-4311-c43e-7b02841154c5"
      },
      "id": "BjX4nyu35hX2",
      "execution_count": 138,
      "outputs": [
        {
          "output_type": "display_data",
          "data": {
            "text/plain": [
              "<Figure size 640x480 with 1 Axes>"
            ],
            "image/png": "[encoded data removed]"
          },
          "metadata": {}
        }
      ]
    },
    {
      "cell_type": "code",
      "source": [
        "df_1 = df.drop(columns = ['Record ID','Date and Time','Notification Title','Email Body']).astype(str)\n",
        "df_1.head()"
      ],
      "metadata": {
        "colab": {
          "base_uri": "https://localhost:8080/",
          "height": 206
        },
        "id": "diQkKqZRG2-E",
        "outputId": "2e9afde1-3cc4-4f50-e255-4feee4c423f9"
      },
      "id": "diQkKqZRG2-E",
      "execution_count": 139,
      "outputs": [
        {
          "output_type": "execute_result",
          "data": {
            "text/plain": [
              "             NotificationType  \\\n",
              "0   zINAC * Aerial (Fly-Over)   \n",
              "1  zINAC * Drills / Exercises   \n",
              "2  zINAC * Drills / Exercises   \n",
              "3  zINAC * Drills / Exercises   \n",
              "4   zINAC * Aerial (Fly-Over)   \n",
              "\n",
              "                                            all_text  \n",
              "0  This is a message from Notify NYC. Notificatio...  \n",
              "1  This is a message from Notify NYC. Notificatio...  \n",
              "2  This is a message from Notify NYC. Notificatio...  \n",
              "3  This is a message from Notify NYC. Notificatio...  \n",
              "4  This is a message from Notify NYC. Notificatio...  "
            ],
            "text/html": [
              "\n",
              "  <div id=\"df-bf67db24-85c7-4e65-8b20-9f252028bd5d\" class=\"colab-df-container\">\n",
              "    <div>\n",
              "<style scoped>\n",
              "    .dataframe tbody tr th:only-of-type {\n",
              "        vertical-align: middle;\n",
              "    }\n",
              "\n",
              "    .dataframe tbody tr th {\n",
              "        vertical-align: top;\n",
              "    }\n",
              "\n",
              "    .dataframe thead th {\n",
              "        text-align: right;\n",
              "    }\n",
              "</style>\n",
              "<table border=\"1\" class=\"dataframe\">\n",
              "  <thead>\n",
              "    <tr style=\"text-align: right;\">\n",
              "      <th></th>\n",
              "      <th>NotificationType</th>\n",
              "      <th>all_text</th>\n",
              "    </tr>\n",
              "  </thead>\n",
              "  <tbody>\n",
              "    <tr>\n",
              "      <th>0</th>\n",
              "      <td>zINAC * Aerial (Fly-Over)</td>\n",
              "      <td>This is a message from Notify NYC. Notificatio...</td>\n",
              "    </tr>\n",
              "    <tr>\n",
              "      <th>1</th>\n",
              "      <td>zINAC * Drills / Exercises</td>\n",
              "      <td>This is a message from Notify NYC. Notificatio...</td>\n",
              "    </tr>\n",
              "    <tr>\n",
              "      <th>2</th>\n",
              "      <td>zINAC * Drills / Exercises</td>\n",
              "      <td>This is a message from Notify NYC. Notificatio...</td>\n",
              "    </tr>\n",
              "    <tr>\n",
              "      <th>3</th>\n",
              "      <td>zINAC * Drills / Exercises</td>\n",
              "      <td>This is a message from Notify NYC. Notificatio...</td>\n",
              "    </tr>\n",
              "    <tr>\n",
              "      <th>4</th>\n",
              "      <td>zINAC * Aerial (Fly-Over)</td>\n",
              "      <td>This is a message from Notify NYC. Notificatio...</td>\n",
              "    </tr>\n",
              "  </tbody>\n",
              "</table>\n",
              "</div>\n",
              "    <div class=\"colab-df-buttons\">\n",
              "\n",
              "  <div class=\"colab-df-container\">\n",
              "    <button class=\"colab-df-convert\" onclick=\"convertToInteractive('df-bf67db24-85c7-4e65-8b20-9f252028bd5d')\"\n",
              "            title=\"Convert this dataframe to an interactive table.\"\n",
              "            style=\"display:none;\">\n",
              "\n",
              "  <svg xmlns=\"http://www.w3.org/2000/svg\" height=\"24px\" viewBox=\"0 -960 960 960\">\n",
              "    <path d=\"M120-120v-720h720v720H120Zm60-500h600v-160H180v160Zm220 220h160v-160H400v160Zm0 220h160v-160H400v160ZM180-400h160v-160H180v160Zm440 0h160v-160H620v160ZM180-180h160v-160H180v160Zm440 0h160v-160H620v160Z\"/>\n",
              "  </svg>\n",
              "    </button>\n",
              "\n",
              "  <style>\n",
              "    .colab-df-container {\n",
              "      display:flex;\n",
              "      gap: 12px;\n",
              "    }\n",
              "\n",
              "    .colab-df-convert {\n",
              "      background-color: #E8F0FE;\n",
              "      border: none;\n",
              "      border-radius: 50%;\n",
              "      cursor: pointer;\n",
              "      display: none;\n",
              "      fill: #1967D2;\n",
              "      height: 32px;\n",
              "      padding: 0 0 0 0;\n",
              "      width: 32px;\n",
              "    }\n",
              "\n",
              "    .colab-df-convert:hover {\n",
              "      background-color: #E2EBFA;\n",
              "      box-shadow: 0px 1px 2px rgba(60, 64, 67, 0.3), 0px 1px 3px 1px rgba(60, 64, 67, 0.15);\n",
              "      fill: #174EA6;\n",
              "    }\n",
              "\n",
              "    .colab-df-buttons div {\n",
              "      margin-bottom: 4px;\n",
              "    }\n",
              "\n",
              "    [theme=dark] .colab-df-convert {\n",
              "      background-color: #3B4455;\n",
              "      fill: #D2E3FC;\n",
              "    }\n",
              "\n",
              "    [theme=dark] .colab-df-convert:hover {\n",
              "      background-color: #434B5C;\n",
              "      box-shadow: 0px 1px 3px 1px rgba(0, 0, 0, 0.15);\n",
              "      filter: drop-shadow(0px 1px 2px rgba(0, 0, 0, 0.3));\n",
              "      fill: #FFFFFF;\n",
              "    }\n",
              "  </style>\n",
              "\n",
              "    <script>\n",
              "      const buttonEl =\n",
              "        document.querySelector('#df-bf67db24-85c7-4e65-8b20-9f252028bd5d button.colab-df-convert');\n",
              "      buttonEl.style.display =\n",
              "        google.colab.kernel.accessAllowed ? 'block' : 'none';\n",
              "\n",
              "      async function convertToInteractive(key) {\n",
              "        const element = document.querySelector('#df-bf67db24-85c7-4e65-8b20-9f252028bd5d');\n",
              "        const dataTable =\n",
              "          await google.colab.kernel.invokeFunction('convertToInteractive',\n",
              "                                                    [key], {});\n",
              "        if (!dataTable) return;\n",
              "\n",
              "        const docLinkHtml = 'Like what you see? Visit the ' +\n",
              "          '<a target=\"_blank\" href=https://colab.research.google.com/notebooks/data_table.ipynb>data table notebook</a>'\n",
              "          + ' to learn more about interactive tables.';\n",
              "        element.innerHTML = '';\n",
              "        dataTable['output_type'] = 'display_data';\n",
              "        await google.colab.output.renderOutput(dataTable, element);\n",
              "        const docLink = document.createElement('div');\n",
              "        docLink.innerHTML = docLinkHtml;\n",
              "        element.appendChild(docLink);\n",
              "      }\n",
              "    </script>\n",
              "  </div>\n",
              "\n",
              "\n",
              "<div id=\"df-f663bc39-fde9-4d58-95bd-e08999196e5c\">\n",
              "  <button class=\"colab-df-quickchart\" onclick=\"quickchart('df-f663bc39-fde9-4d58-95bd-e08999196e5c')\"\n",
              "            title=\"Suggest charts\"\n",
              "            style=\"display:none;\">\n",
              "\n",
              "<svg xmlns=\"http://www.w3.org/2000/svg\" height=\"24px\"viewBox=\"0 0 24 24\"\n",
              "     width=\"24px\">\n",
              "    <g>\n",
              "        <path d=\"M19 3H5c-1.1 0-2 .9-2 2v14c0 1.1.9 2 2 2h14c1.1 0 2-.9 2-2V5c0-1.1-.9-2-2-2zM9 17H7v-7h2v7zm4 0h-2V7h2v10zm4 0h-2v-4h2v4z\"/>\n",
              "    </g>\n",
              "</svg>\n",
              "  </button>\n",
              "\n",
              "<style>\n",
              "  .colab-df-quickchart {\n",
              "      --bg-color: #E8F0FE;\n",
              "      --fill-color: #1967D2;\n",
              "      --hover-bg-color: #E2EBFA;\n",
              "      --hover-fill-color: #174EA6;\n",
              "      --disabled-fill-color: #AAA;\n",
              "      --disabled-bg-color: #DDD;\n",
              "  }\n",
              "\n",
              "  [theme=dark] .colab-df-quickchart {\n",
              "      --bg-color: #3B4455;\n",
              "      --fill-color: #D2E3FC;\n",
              "      --hover-bg-color: #434B5C;\n",
              "      --hover-fill-color: #FFFFFF;\n",
              "      --disabled-bg-color: #3B4455;\n",
              "      --disabled-fill-color: #666;\n",
              "  }\n",
              "\n",
              "  .colab-df-quickchart {\n",
              "    background-color: var(--bg-color);\n",
              "    border: none;\n",
              "    border-radius: 50%;\n",
              "    cursor: pointer;\n",
              "    display: none;\n",
              "    fill: var(--fill-color);\n",
              "    height: 32px;\n",
              "    padding: 0;\n",
              "    width: 32px;\n",
              "  }\n",
              "\n",
              "  .colab-df-quickchart:hover {\n",
              "    background-color: var(--hover-bg-color);\n",
              "    box-shadow: 0 1px 2px rgba(60, 64, 67, 0.3), 0 1px 3px 1px rgba(60, 64, 67, 0.15);\n",
              "    fill: var(--button-hover-fill-color);\n",
              "  }\n",
              "\n",
              "  .colab-df-quickchart-complete:disabled,\n",
              "  .colab-df-quickchart-complete:disabled:hover {\n",
              "    background-color: var(--disabled-bg-color);\n",
              "    fill: var(--disabled-fill-color);\n",
              "    box-shadow: none;\n",
              "  }\n",
              "\n",
              "  .colab-df-spinner {\n",
              "    border: 2px solid var(--fill-color);\n",
              "    border-color: transparent;\n",
              "    border-bottom-color: var(--fill-color);\n",
              "    animation:\n",
              "      spin 1s steps(1) infinite;\n",
              "  }\n",
              "\n",
              "  @keyframes spin {\n",
              "    0% {\n",
              "      border-color: transparent;\n",
              "      border-bottom-color: var(--fill-color);\n",
              "      border-left-color: var(--fill-color);\n",
              "    }\n",
              "    20% {\n",
              "      border-color: transparent;\n",
              "      border-left-color: var(--fill-color);\n",
              "      border-top-color: var(--fill-color);\n",
              "    }\n",
              "    30% {\n",
              "      border-color: transparent;\n",
              "      border-left-color: var(--fill-color);\n",
              "      border-top-color: var(--fill-color);\n",
              "      border-right-color: var(--fill-color);\n",
              "    }\n",
              "    40% {\n",
              "      border-color: transparent;\n",
              "      border-right-color: var(--fill-color);\n",
              "      border-top-color: var(--fill-color);\n",
              "    }\n",
              "    60% {\n",
              "      border-color: transparent;\n",
              "      border-right-color: var(--fill-color);\n",
              "    }\n",
              "    80% {\n",
              "      border-color: transparent;\n",
              "      border-right-color: var(--fill-color);\n",
              "      border-bottom-color: var(--fill-color);\n",
              "    }\n",
              "    90% {\n",
              "      border-color: transparent;\n",
              "      border-bottom-color: var(--fill-color);\n",
              "    }\n",
              "  }\n",
              "</style>\n",
              "\n",
              "  <script>\n",
              "    async function quickchart(key) {\n",
              "      const quickchartButtonEl =\n",
              "        document.querySelector('#' + key + ' button');\n",
              "      quickchartButtonEl.disabled = true;  // To prevent multiple clicks.\n",
              "      quickchartButtonEl.classList.add('colab-df-spinner');\n",
              "      try {\n",
              "        const charts = await google.colab.kernel.invokeFunction(\n",
              "            'suggestCharts', [key], {});\n",
              "      } catch (error) {\n",
              "        console.error('Error during call to suggestCharts:', error);\n",
              "      }\n",
              "      quickchartButtonEl.classList.remove('colab-df-spinner');\n",
              "      quickchartButtonEl.classList.add('colab-df-quickchart-complete');\n",
              "    }\n",
              "    (() => {\n",
              "      let quickchartButtonEl =\n",
              "        document.querySelector('#df-f663bc39-fde9-4d58-95bd-e08999196e5c button');\n",
              "      quickchartButtonEl.style.display =\n",
              "        google.colab.kernel.accessAllowed ? 'block' : 'none';\n",
              "    })();\n",
              "  </script>\n",
              "</div>\n",
              "    </div>\n",
              "  </div>\n"
            ]
          },
          "metadata": {},
          "execution_count": 139
        }
      ]
    },
    {
      "cell_type": "code",
      "source": [
        "porter = PorterStemmer()\n",
        "corpus = []\n",
        "for i in range(0,len(df_1)):\n",
        "    review = re.sub('[^a-zA-Z]',' ',df_1['all_text'][i])\n",
        "    review = review.lower()\n",
        "    review = review.split()\n",
        "    review = [porter.stem(word) for word in review if not word in stopwords.words('english')]\n",
        "    review = \" \".join(review)\n",
        "    corpus.append(review)"
      ],
      "metadata": {
        "id": "-RSwxg9xHahu"
      },
      "id": "-RSwxg9xHahu",
      "execution_count": 140,
      "outputs": []
    },
    {
      "cell_type": "code",
      "source": [
        "review[:100]"
      ],
      "metadata": {
        "colab": {
          "base_uri": "https://localhost:8080/",
          "height": 36
        },
        "id": "4qGRkicpY1jf",
        "outputId": "7c5dde55-2101-47da-b728-31fb0844d5e9"
      },
      "id": "4qGRkicpY1jf",
      "execution_count": 156,
      "outputs": [
        {
          "output_type": "execute_result",
          "data": {
            "text/plain": [
              "'notif issu pm due person struck train long island rail road port washington branch servic suspend di'"
            ],
            "application/vnd.google.colaboratory.intrinsic+json": {
              "type": "string"
            }
          },
          "metadata": {},
          "execution_count": 156
        }
      ]
    },
    {
      "cell_type": "code",
      "source": [
        "# CountVectorizer\n",
        "cv = CountVectorizer(max_features=4000,ngram_range=(1,4))\n",
        "X = cv.fit_transform(corpus).toarray()\n",
        "# cv.get_feature_names()[:20]"
      ],
      "metadata": {
        "id": "QF70dTZJKQUx"
      },
      "id": "QF70dTZJKQUx",
      "execution_count": 141,
      "outputs": []
    },
    {
      "cell_type": "code",
      "source": [
        "cv.get_params()"
      ],
      "metadata": {
        "colab": {
          "base_uri": "https://localhost:8080/"
        },
        "id": "IN8eo7rEK_PR",
        "outputId": "3805fd2c-a952-4f9c-d597-e8c3655a339f"
      },
      "id": "IN8eo7rEK_PR",
      "execution_count": 142,
      "outputs": [
        {
          "output_type": "execute_result",
          "data": {
            "text/plain": [
              "{'analyzer': 'word',\n",
              " 'binary': False,\n",
              " 'decode_error': 'strict',\n",
              " 'dtype': numpy.int64,\n",
              " 'encoding': 'utf-8',\n",
              " 'input': 'content',\n",
              " 'lowercase': True,\n",
              " 'max_df': 1.0,\n",
              " 'max_features': 4000,\n",
              " 'min_df': 1,\n",
              " 'ngram_range': (1, 4),\n",
              " 'preprocessor': None,\n",
              " 'stop_words': None,\n",
              " 'strip_accents': None,\n",
              " 'token_pattern': '(?u)\\\\b\\\\w\\\\w+\\\\b',\n",
              " 'tokenizer': None,\n",
              " 'vocabulary': None}"
            ]
          },
          "metadata": {},
          "execution_count": 142
        }
      ]
    },
    {
      "cell_type": "markdown",
      "source": [
        "### Data Training, Labeling And Splitting"
      ],
      "metadata": {
        "id": "jY4uN3p_cM7h"
      },
      "id": "jY4uN3p_cM7h"
    },
    {
      "cell_type": "code",
      "source": [
        "from sklearn import preprocessing"
      ],
      "metadata": {
        "id": "IwUV89yRSuks"
      },
      "id": "IwUV89yRSuks",
      "execution_count": 143,
      "outputs": []
    },
    {
      "cell_type": "code",
      "source": [
        "le = preprocessing.LabelEncoder()\n",
        "df['NotificationType'] = le.fit_transform(df['NotificationType'])\n",
        "y = df['NotificationType']"
      ],
      "metadata": {
        "id": "tNQItflsStq4"
      },
      "id": "tNQItflsStq4",
      "execution_count": 144,
      "outputs": []
    },
    {
      "cell_type": "code",
      "source": [
        "from sklearn.model_selection import train_test_split\n",
        "X_train, X_test, y_train, y_test = train_test_split(X, y, test_size=0.33, random_state=42)"
      ],
      "metadata": {
        "id": "bma35Vx3MMZw"
      },
      "id": "bma35Vx3MMZw",
      "execution_count": 145,
      "outputs": []
    },
    {
      "cell_type": "code",
      "source": [
        "type(y_test.values)"
      ],
      "metadata": {
        "colab": {
          "base_uri": "https://localhost:8080/"
        },
        "id": "RgpWGMAmVDkS",
        "outputId": "c7e48b04-1059-47d7-9c82-cc507a6d2db8"
      },
      "id": "RgpWGMAmVDkS",
      "execution_count": 146,
      "outputs": [
        {
          "output_type": "execute_result",
          "data": {
            "text/plain": [
              "numpy.ndarray"
            ]
          },
          "metadata": {},
          "execution_count": 146
        }
      ]
    },
    {
      "cell_type": "code",
      "source": [
        "print(le.classes_)"
      ],
      "metadata": {
        "colab": {
          "base_uri": "https://localhost:8080/"
        },
        "id": "g-E6-ZNhWc0f",
        "outputId": "800144d7-650d-41b7-b6da-054723652a45"
      },
      "id": "g-E6-ZNhWc0f",
      "execution_count": 148,
      "outputs": [
        {
          "output_type": "stream",
          "name": "stdout",
          "text": [
            "['Emergency Activity' 'Local Mass Transit' 'Mass Transit Restoration'\n",
            " 'Missing Person' 'Nixle' 'Planned Events' 'Public Health'\n",
            " 'Regional Mass Transit' 'School Notification' 'Transportation' 'UNKOWN'\n",
            " 'Utility' 'Weather' 'zINAC * Aerial (Fly-Over)'\n",
            " 'zINAC * Drills / Exercises' 'zINAC * Environmental' 'zINAC * Fire'\n",
            " 'zINAC * Parking']\n"
          ]
        }
      ]
    },
    {
      "cell_type": "markdown",
      "source": [
        "### Implementation Of Model"
      ],
      "metadata": {
        "id": "nGpZl48JcSvF"
      },
      "id": "nGpZl48JcSvF"
    },
    {
      "cell_type": "code",
      "source": [
        "from sklearn.tree import DecisionTreeClassifier\n",
        "import sklearn\n",
        "dtree_model = DecisionTreeClassifier(max_depth = 2).fit(X_train, y_train)\n",
        "dtree_predictions = dtree_model.predict(X_test)\n",
        "cm = confusion_matrix(y_test, dtree_predictions)\n",
        "print(sklearn.metrics.classification_report(y_test, dtree_predictions, labels=range(len(le.classes_))))"
      ],
      "metadata": {
        "colab": {
          "base_uri": "https://localhost:8080/"
        },
        "id": "tKAAWvyBMqaR",
        "outputId": "a99d18ed-af16-461b-a0ed-1b0b8053c3f7"
      },
      "id": "tKAAWvyBMqaR",
      "execution_count": 150,
      "outputs": [
        {
          "output_type": "stream",
          "name": "stdout",
          "text": [
            "              precision    recall  f1-score   support\n",
            "\n",
            "           0       0.00      0.00      0.00       557\n",
            "           1       0.88      0.42      0.57       984\n",
            "           2       0.00      0.00      0.00       283\n",
            "           3       1.00      0.92      0.96       703\n",
            "           4       0.00      0.00      0.00       136\n",
            "           5       0.00      0.00      0.00       121\n",
            "           6       0.00      0.00      0.00       369\n",
            "           7       0.00      0.00      0.00        20\n",
            "           8       0.00      0.00      0.00        69\n",
            "           9       0.39      0.98      0.56      2999\n",
            "          10       0.00      0.00      0.00        22\n",
            "          11       0.00      0.00      0.00       638\n",
            "          12       0.00      0.00      0.00       865\n",
            "          13       0.00      0.00      0.00       197\n",
            "          14       0.00      0.00      0.00        97\n",
            "          15       0.00      0.00      0.00       309\n",
            "          16       0.00      0.00      0.00       183\n",
            "          17       0.00      0.00      0.00        42\n",
            "\n",
            "    accuracy                           0.47      8594\n",
            "   macro avg       0.13      0.13      0.12      8594\n",
            "weighted avg       0.32      0.47      0.34      8594\n",
            "\n"
          ]
        },
        {
          "output_type": "stream",
          "name": "stderr",
          "text": [
            "/usr/local/lib/python3.10/dist-packages/sklearn/metrics/_classification.py:1344: UndefinedMetricWarning: Precision and F-score are ill-defined and being set to 0.0 in labels with no predicted samples. Use `zero_division` parameter to control this behavior.\n",
            "  _warn_prf(average, modifier, msg_start, len(result))\n",
            "/usr/local/lib/python3.10/dist-packages/sklearn/metrics/_classification.py:1344: UndefinedMetricWarning: Precision and F-score are ill-defined and being set to 0.0 in labels with no predicted samples. Use `zero_division` parameter to control this behavior.\n",
            "  _warn_prf(average, modifier, msg_start, len(result))\n",
            "/usr/local/lib/python3.10/dist-packages/sklearn/metrics/_classification.py:1344: UndefinedMetricWarning: Precision and F-score are ill-defined and being set to 0.0 in labels with no predicted samples. Use `zero_division` parameter to control this behavior.\n",
            "  _warn_prf(average, modifier, msg_start, len(result))\n"
          ]
        }
      ]
    },
    {
      "cell_type": "code",
      "source": [
        "# training a Naive Bayes classifier\n",
        "from sklearn.naive_bayes import GaussianNB\n",
        "gnb = GaussianNB().fit(X_train, y_train)\n",
        "gnb_predictions = gnb.predict(X_test)\n",
        "\n",
        "# accuracy on X_test\n",
        "accuracy = gnb.score(X_test, y_test)\n",
        "print(accuracy)\n",
        "\n",
        "# creating a confusion matrix\n",
        "cm = confusion_matrix(y_test, gnb_predictions)\n",
        "print(sklearn.metrics.classification_report(y_test, gnb_predictions, labels=range(len(le.classes_))))"
      ],
      "metadata": {
        "colab": {
          "base_uri": "https://localhost:8080/"
        },
        "id": "-usJxtv7TsBE",
        "outputId": "93e9fe5a-6925-4bb9-fef1-bac0a2ac1530"
      },
      "id": "-usJxtv7TsBE",
      "execution_count": 151,
      "outputs": [
        {
          "output_type": "stream",
          "name": "stdout",
          "text": [
            "0.839655573656039\n",
            "              precision    recall  f1-score   support\n",
            "\n",
            "           0       0.53      0.51      0.52       557\n",
            "           1       0.78      0.73      0.76       984\n",
            "           2       0.52      0.90      0.66       283\n",
            "           3       1.00      1.00      1.00       703\n",
            "           4       0.73      0.81      0.77       136\n",
            "           5       0.22      0.35      0.27       121\n",
            "           6       0.89      0.70      0.79       369\n",
            "           7       0.23      0.50      0.31        20\n",
            "           8       0.93      0.80      0.86        69\n",
            "           9       0.97      0.87      0.92      2999\n",
            "          10       0.16      0.23      0.19        22\n",
            "          11       0.93      0.94      0.94       638\n",
            "          12       0.96      0.97      0.96       865\n",
            "          13       0.79      0.87      0.83       197\n",
            "          14       0.63      0.74      0.68        97\n",
            "          15       0.82      1.00      0.90       309\n",
            "          16       0.63      0.85      0.72       183\n",
            "          17       0.71      0.76      0.74        42\n",
            "\n",
            "    accuracy                           0.84      8594\n",
            "   macro avg       0.69      0.75      0.71      8594\n",
            "weighted avg       0.86      0.84      0.85      8594\n",
            "\n"
          ]
        }
      ]
    },
    {
      "cell_type": "code",
      "source": [
        "# training a KNN classifier\n",
        "from sklearn.neighbors import KNeighborsClassifier\n",
        "knn = KNeighborsClassifier(n_neighbors = 7).fit(X_train, y_train)\n",
        "\n",
        "# accuracy on X_test\n",
        "accuracy = knn.score(X_test, y_test)\n",
        "print(accuracy)\n",
        "\n",
        "# creating a confusion matrix\n",
        "knn_predictions = knn.predict(X_test)\n",
        "cm = confusion_matrix(y_test, knn_predictions)\n",
        "\n",
        "print(sklearn.metrics.classification_report(y_test, knn_predictions, labels=range(len(le.classes_))))"
      ],
      "metadata": {
        "colab": {
          "base_uri": "https://localhost:8080/"
        },
        "id": "Z04cCEUlXXq1",
        "outputId": "954a4de2-5879-41f6-c6f2-797d6cfa9987"
      },
      "id": "Z04cCEUlXXq1",
      "execution_count": 152,
      "outputs": [
        {
          "output_type": "stream",
          "name": "stdout",
          "text": [
            "0.9053991156620899\n",
            "              precision    recall  f1-score   support\n",
            "\n",
            "           0       0.77      0.75      0.76       557\n",
            "           1       0.89      0.89      0.89       984\n",
            "           2       0.73      0.87      0.79       283\n",
            "           3       0.99      1.00      1.00       703\n",
            "           4       0.57      0.89      0.70       136\n",
            "           5       0.64      0.48      0.55       121\n",
            "           6       0.83      0.90      0.86       369\n",
            "           7       0.67      0.10      0.17        20\n",
            "           8       0.94      0.87      0.90        69\n",
            "           9       0.95      0.94      0.95      2999\n",
            "          10       0.25      0.18      0.21        22\n",
            "          11       0.98      0.92      0.95       638\n",
            "          12       0.99      0.96      0.97       865\n",
            "          13       0.84      0.86      0.85       197\n",
            "          14       0.89      0.81      0.85        97\n",
            "          15       0.99      0.99      0.99       309\n",
            "          16       0.68      0.74      0.70       183\n",
            "          17       0.76      0.93      0.84        42\n",
            "\n",
            "    accuracy                           0.91      8594\n",
            "   macro avg       0.80      0.78      0.77      8594\n",
            "weighted avg       0.91      0.91      0.91      8594\n",
            "\n"
          ]
        }
      ]
    },
    {
      "cell_type": "code",
      "source": [
        "# training a linear SVM classifier\n",
        "from sklearn.svm import SVC\n",
        "svm_model_linear = SVC(kernel = 'linear', C = 1).fit(X_train, y_train)\n",
        "svm_predictions = svm_model_linear.predict(X_test)\n",
        "\n",
        "# model accuracy for X_test\n",
        "accuracy = svm_model_linear.score(X_test, y_test)\n",
        "\n",
        "# creating a confusion matrix\n",
        "cm = confusion_matrix(y_test, svm_predictions)\n",
        "print(sklearn.metrics.classification_report(y_test, svm_predictions, labels=range(len(le.classes_))))"
      ],
      "metadata": {
        "colab": {
          "base_uri": "https://localhost:8080/"
        },
        "id": "DouMcBEgNMpp",
        "outputId": "6085f862-7643-430f-a69a-5d240ac19f1f"
      },
      "id": "DouMcBEgNMpp",
      "execution_count": 157,
      "outputs": [
        {
          "output_type": "stream",
          "name": "stdout",
          "text": [
            "              precision    recall  f1-score   support\n",
            "\n",
            "           0       0.78      0.80      0.79       557\n",
            "           1       0.91      0.87      0.89       984\n",
            "           2       0.74      0.91      0.82       283\n",
            "           3       1.00      1.00      1.00       703\n",
            "           4       0.77      0.91      0.84       136\n",
            "           5       0.69      0.58      0.63       121\n",
            "           6       0.92      0.89      0.91       369\n",
            "           7       0.38      0.25      0.30        20\n",
            "           8       0.99      0.96      0.97        69\n",
            "           9       0.96      0.94      0.95      2999\n",
            "          10       0.45      0.41      0.43        22\n",
            "          11       0.97      0.97      0.97       638\n",
            "          12       0.98      0.96      0.97       865\n",
            "          13       0.86      0.94      0.90       197\n",
            "          14       0.94      0.82      0.88        97\n",
            "          15       0.97      1.00      0.98       309\n",
            "          16       0.77      0.82      0.80       183\n",
            "          17       0.74      0.81      0.77        42\n",
            "\n",
            "    accuracy                           0.92      8594\n",
            "   macro avg       0.82      0.83      0.82      8594\n",
            "weighted avg       0.92      0.92      0.92      8594\n",
            "\n"
          ]
        }
      ]
    },
    {
      "cell_type": "code",
      "source": [
        "import numpy as np\n",
        "# Assuming you have evaluation metrics for each model, replace these values with your actual metrics\n",
        "models = ['dtree_model', 'gnb', 'knn', 'svm_model_linear']\n",
        "accuracy = [47, 84, 91, 92  ]  # Replace with your accuracy values\n",
        "recall = [13, 76, 93, 81]  # Replace with your recall values\n",
        "f1_score = [13, 74, 84, 77]  # Replace with your F1 score values\n",
        "support = [42, 42, 42, 42]  # Replace with your support values\n",
        "\n",
        "# Set up the bar chart\n",
        "bar_width = 0.2\n",
        "index = np.arange(len(models))\n",
        "\n",
        "# Plotting accuracy\n",
        "plt.bar(index, accuracy, width=bar_width, label='Accuracy')\n",
        "\n",
        "# Plotting recall\n",
        "plt.bar(index + bar_width, recall, width=bar_width, label='Recall')\n",
        "\n",
        "# Plotting F1 score\n",
        "plt.bar(index + 2 * bar_width, f1_score, width=bar_width, label='F1 Score')\n",
        "\n",
        "# Plotting support\n",
        "plt.bar(index + 3 * bar_width, support, width=bar_width, label='Support')\n",
        "\n",
        "# Add labels and title\n",
        "plt.xlabel('Models')\n",
        "plt.ylabel('Scores')\n",
        "plt.title('Evaluation Metrics for Four Models')\n",
        "plt.xticks(index + 1.5 * bar_width, models)\n",
        "plt.legend()\n",
        "\n",
        "# Show the plot\n",
        "plt.show()\n"
      ],
      "metadata": {
        "colab": {
          "base_uri": "https://localhost:8080/",
          "height": 472
        },
        "id": "3jtTLLzFs6Xf",
        "outputId": "f00daaf2-4c04-4e44-b67c-2a54c0bfd52a"
      },
      "id": "3jtTLLzFs6Xf",
      "execution_count": 6,
      "outputs": [
        {
          "output_type": "display_data",
          "data": {
            "text/plain": [
              "<Figure size 640x480 with 1 Axes>"
            ],
            "image/png": "[encoded data removed]"
          },
          "metadata": {}
        }
      ]
    }
  ],
  "metadata": {
    "kernelspec": {
      "display_name": "Python 3 (ipykernel)",
      "language": "python",
      "name": "python3"
    },
    "language_info": {
      "codemirror_mode": {
        "name": "ipython",
        "version": 3
      },
      "file_extension": ".py",
      "mimetype": "text/x-python",
      "name": "python",
      "nbconvert_exporter": "python",
      "pygments_lexer": "ipython3",
      "version": "3.9.13"
    },
    "colab": {
      "provenance": [],
      "include_colab_link": true
    }
  },
  "nbformat": 4,
  "nbformat_minor": 5
}